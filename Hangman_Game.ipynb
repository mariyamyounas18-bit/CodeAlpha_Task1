{
  "nbformat": 4,
  "nbformat_minor": 0,
  "metadata": {
    "colab": {
      "provenance": []
    },
    "kernelspec": {
      "name": "python3",
      "display_name": "Python 3"
    },
    "language_info": {
      "name": "python"
    }
  },
  "cells": [
    {
      "cell_type": "code",
      "source": [
        "import random\n",
        "\n",
        "# 1) Predefined list of words\n",
        "words = [\"python\", \"programming\", \"hangman\", \"internship\", \"developer\"]\n",
        "\n",
        "# 2) Pick a random word and initialize game state\n",
        "word = random.choice(words)\n",
        "guessed_word = [\"_\"] * len(word)\n",
        "attempts = 6\n",
        "guessed_letters = []\n",
        "\n",
        "# 3) Welcome message\n",
        "print(\"🎮 Welcome to Hangman!\")\n",
        "print(\"Guess the word: \", \" \".join(guessed_word))\n",
        "\n",
        "# 4) Main game loop\n",
        "while attempts > 0 and \"_\" in guessed_word:\n",
        "    guess = input(\"\\nEnter a letter: \").lower()\n",
        "\n",
        "    # 5) Validate input\n",
        "    if len(guess) != 1 or not guess.isalpha():\n",
        "        print(\"❌ Please enter a single valid letter.\")\n",
        "        continue\n",
        "\n",
        "    # 6) Check for repeat guesses\n",
        "    if guess in guessed_letters:\n",
        "        print(\"⚠️ You already guessed that letter.\")\n",
        "        continue\n",
        "\n",
        "    # record the guess\n",
        "    guessed_letters.append(guess)\n",
        "\n",
        "    # 7) Correct or wrong guess handling\n",
        "    if guess in word:\n",
        "        print(\"✅ Good guess!\")\n",
        "        for i, letter in enumerate(word):\n",
        "            if letter == guess:\n",
        "                guessed_word[i] = guess\n",
        "    else:\n",
        "        attempts -= 1\n",
        "        print(f\"❌ Wrong guess! Attempts left: {attempts}\")\n",
        "\n",
        "    # 8) Show progress\n",
        "    print(\"Word: \", \" \".join(guessed_word))\n",
        "\n",
        "# 9) Final result\n",
        "if \"_\" not in guessed_word:\n",
        "    print(\"\\n🎉 Congratulations! You guessed the word:\", word)\n",
        "else:\n",
        "    print(\"\\n😢 Game Over! The word was:\", word)\n"
      ],
      "metadata": {
        "colab": {
          "base_uri": "https://localhost:8080/"
        },
        "id": "UWAHDb-FmUHG",
        "outputId": "834182e6-d19d-4e78-b252-37d83bf74099"
      },
      "execution_count": null,
      "outputs": [
        {
          "output_type": "stream",
          "name": "stdout",
          "text": [
            "🎮 Welcome to Hangman!\n",
            "Guess the word:  _ _ _ _ _ _ _ _ _ _ _\n",
            "\n",
            "Enter a letter: a\n",
            "✅ Good guess!\n",
            "Word:  _ _ _ _ _ a _ _ _ _ _\n",
            "\n",
            "Enter a letter: b\n",
            "❌ Wrong guess! Attempts left: 5\n",
            "Word:  _ _ _ _ _ a _ _ _ _ _\n",
            "\n",
            "Enter a letter: n\n",
            "✅ Good guess!\n",
            "Word:  _ _ _ _ _ a _ _ _ n _\n",
            "\n",
            "Enter a letter: s\n",
            "❌ Wrong guess! Attempts left: 4\n",
            "Word:  _ _ _ _ _ a _ _ _ n _\n",
            "\n",
            "Enter a letter: i\n",
            "✅ Good guess!\n",
            "Word:  _ _ _ _ _ a _ _ i n _\n",
            "\n",
            "Enter a letter: o\n",
            "✅ Good guess!\n",
            "Word:  _ _ o _ _ a _ _ i n _\n",
            "\n",
            "Enter a letter: g\n",
            "✅ Good guess!\n",
            "Word:  _ _ o g _ a _ _ i n g\n",
            "\n",
            "Enter a letter: p\n",
            "✅ Good guess!\n",
            "Word:  p _ o g _ a _ _ i n g\n",
            "\n",
            "Enter a letter: r\n",
            "✅ Good guess!\n",
            "Word:  p r o g r a _ _ i n g\n",
            "\n",
            "Enter a letter: f\n",
            "❌ Wrong guess! Attempts left: 3\n",
            "Word:  p r o g r a _ _ i n g\n",
            "\n",
            "Enter a letter: m\n",
            "✅ Good guess!\n",
            "Word:  p r o g r a m m i n g\n",
            "\n",
            "🎉 Congratulations! You guessed the word: programming\n"
          ]
        }
      ]
    }
  ]
}